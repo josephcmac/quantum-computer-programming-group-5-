{
 "cells": [
  {
   "cell_type": "code",
   "execution_count": null,
   "metadata": {},
   "outputs": [],
   "source": [
    "from qiskit import *\n",
    "from qiskit.tools.monitor import job_monitor\n",
    "from qiskit.tools.visualization import plot_histogram\n",
    "\n",
    "def make_ghz3(shots, device):\n",
    "    qr = QuantumRegister(3)\n",
    "    cr = ClassicalRegister(3)\n",
    "    circuit = QuantumCircuit(qr,cr)\n",
    "    circuit.h(qr[0])\n",
    "    circuit.cx(qr[0], qr[1])\n",
    "    circuit.cx(qr[1], qr[2]) \n",
    "    IBMQ.load_account()\n",
    "    provider = IBMQ.get_provider('ibm-q')\n",
    "    qcomp = provider.get_backend(device)\n",
    "    job = execute(circuit, backend = qcomp, shots = shots)\n",
    "    job_monitor(job)\n",
    "    result = job.result()\n",
    "    return result\n",
    "\n",
    "result = make_ghz3(1000, 'ibmq_essex')"
   ]
  }
 ],
 "metadata": {
  "kernelspec": {
   "display_name": "Python 3",
   "language": "python",
   "name": "python3"
  },
  "language_info": {
   "codemirror_mode": {
    "name": "ipython",
    "version": 3
   },
   "file_extension": ".py",
   "mimetype": "text/x-python",
   "name": "python",
   "nbconvert_exporter": "python",
   "pygments_lexer": "ipython3",
   "version": "3.7.6"
  }
 },
 "nbformat": 4,
 "nbformat_minor": 4
}
